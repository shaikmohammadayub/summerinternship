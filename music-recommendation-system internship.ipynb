{
 "cells": [
  {
   "cell_type": "code",
   "execution_count": null,
   "metadata": {
    "_cell_guid": "b1076dfc-b9ad-4769-8c92-a6c4dae69d19",
    "_kg_hide-input": true,
    "_uuid": "8f2839f25d086af736a60e9eeb907d3b93b6e0e5",
    "execution": {
     "iopub.execute_input": "2023-01-09T12:15:53.66627Z",
     "iopub.status.busy": "2023-01-09T12:15:53.66533Z",
     "iopub.status.idle": "2023-01-09T12:15:56.691773Z",
     "shell.execute_reply": "2023-01-09T12:15:56.690442Z",
     "shell.execute_reply.started": "2023-01-09T12:15:53.666165Z"
    }
   },
   "outputs": [],
   "source": [
    "# This Python 3 environment comes with many helpful analytics libraries installed\n",
    "# It is defined by the kaggle/python Docker image: https://github.com/kaggle/docker-python\n",
    "# For example, here's several helpful packages to load\n",
    "import os\n",
    "import numpy as np\n",
    "import pandas as pd\n",
    "\n",
    "import seaborn as sns\n",
    "import plotly.express as px \n",
    "import matplotlib.pyplot as plt\n",
    "%matplotlib inline\n",
    "\n",
    "from sklearn.cluster import KMeans\n",
    "from sklearn.preprocessing import StandardScaler\n",
    "from sklearn.pipeline import Pipeline\n",
    "from sklearn.manifold import TSNE\n",
    "from sklearn.decomposition import PCA\n",
    "from sklearn.metrics import euclidean_distances\n",
    "from scipy.spatial.distance import cdist\n",
    "from collections import defaultdict\n",
    "import difflib\n",
    "\n",
    "import warnings\n",
    "warnings.filterwarnings(\"ignore\")\n",
    "\n",
    "# Input data files are available in the read-only \"../input/\" directory\n",
    "# For example, running this (by clicking run or pressing Shift+Enter) will list all files under the input directory\n",
    "\n",
    "import os\n",
    "for dirname, _, filenames in os.walk('/kaggle/input'):\n",
    "    for filename in filenames:\n",
    "        print(os.path.join(dirname, filename))\n",
    "\n",
    "# You can write up to 20GB to the current directory (/kaggle/working/) that gets preserved as output when you create a version using \"Save & Run All\" \n",
    "# You can also write temporary files to /kaggle/temp/, but they won't be saved outside of the current session"
   ]
  },
  {
   "cell_type": "markdown",
   "metadata": {},
   "source": [
    "***\n",
    "# Reading Data"
   ]
  },
  {
   "cell_type": "code",
   "execution_count": null,
   "metadata": {
    "execution": {
     "iopub.execute_input": "2023-01-09T12:16:26.35043Z",
     "iopub.status.busy": "2023-01-09T12:16:26.349991Z",
     "iopub.status.idle": "2023-01-09T12:16:27.742332Z",
     "shell.execute_reply": "2023-01-09T12:16:27.741082Z",
     "shell.execute_reply.started": "2023-01-09T12:16:26.35039Z"
    }
   },
   "outputs": [],
   "source": [
    "data = pd.read_csv(\"../input/spotify-dataset/data/data.csv\")\n",
    "genre_data = pd.read_csv('../input/spotify-dataset/data/data_by_genres.csv')\n",
    "year_data = pd.read_csv('../input/spotify-dataset/data/data_by_year.csv')\n",
    "artist_data = pd.read_csv('../input/spotify-dataset/data/data_by_artist.csv')"
   ]
  },
  {
   "cell_type": "code",
   "execution_count": null,
   "metadata": {
    "execution": {
     "iopub.execute_input": "2023-01-09T12:16:27.745324Z",
     "iopub.status.busy": "2023-01-09T12:16:27.744812Z",
     "iopub.status.idle": "2023-01-09T12:16:27.777109Z",
     "shell.execute_reply": "2023-01-09T12:16:27.77577Z",
     "shell.execute_reply.started": "2023-01-09T12:16:27.745277Z"
    }
   },
   "outputs": [],
   "source": [
    "data.head(2)"
   ]
  },
  {
   "cell_type": "code",
   "execution_count": null,
   "metadata": {
    "execution": {
     "iopub.execute_input": "2023-01-09T12:16:27.779112Z",
     "iopub.status.busy": "2023-01-09T12:16:27.778616Z",
     "iopub.status.idle": "2023-01-09T12:16:27.799112Z",
     "shell.execute_reply": "2023-01-09T12:16:27.797578Z",
     "shell.execute_reply.started": "2023-01-09T12:16:27.779076Z"
    }
   },
   "outputs": [],
   "source": [
    "genre_data.head(2)"
   ]
  },
  {
   "cell_type": "code",
   "execution_count": null,
   "metadata": {
    "execution": {
     "iopub.execute_input": "2023-01-09T12:16:27.802316Z",
     "iopub.status.busy": "2023-01-09T12:16:27.801561Z",
     "iopub.status.idle": "2023-01-09T12:16:27.820284Z",
     "shell.execute_reply": "2023-01-09T12:16:27.819335Z",
     "shell.execute_reply.started": "2023-01-09T12:16:27.802267Z"
    }
   },
   "outputs": [],
   "source": [
    "year_data.head(2)"
   ]
  },
  {
   "cell_type": "code",
   "execution_count": null,
   "metadata": {
    "execution": {
     "iopub.execute_input": "2023-01-09T12:16:27.856633Z",
     "iopub.status.busy": "2023-01-09T12:16:27.856074Z",
     "iopub.status.idle": "2023-01-09T12:16:27.877022Z",
     "shell.execute_reply": "2023-01-09T12:16:27.875567Z",
     "shell.execute_reply.started": "2023-01-09T12:16:27.856593Z"
    }
   },
   "outputs": [],
   "source": [
    "artist_data.head(2)"
   ]
  },
  {
   "cell_type": "code",
   "execution_count": null,
   "metadata": {
    "execution": {
     "iopub.execute_input": "2023-01-09T12:16:28.312126Z",
     "iopub.status.busy": "2023-01-09T12:16:28.311685Z",
     "iopub.status.idle": "2023-01-09T12:16:28.382522Z",
     "shell.execute_reply": "2023-01-09T12:16:28.381197Z",
     "shell.execute_reply.started": "2023-01-09T12:16:28.312091Z"
    }
   },
   "outputs": [],
   "source": [
    "data.info()"
   ]
  },
  {
   "cell_type": "code",
   "execution_count": null,
   "metadata": {
    "execution": {
     "iopub.execute_input": "2023-01-09T12:16:28.981512Z",
     "iopub.status.busy": "2023-01-09T12:16:28.981056Z",
     "iopub.status.idle": "2023-01-09T12:16:28.997998Z",
     "shell.execute_reply": "2023-01-09T12:16:28.996607Z",
     "shell.execute_reply.started": "2023-01-09T12:16:28.981474Z"
    }
   },
   "outputs": [],
   "source": [
    "genre_data.info()"
   ]
  },
  {
   "cell_type": "code",
   "execution_count": null,
   "metadata": {
    "execution": {
     "iopub.execute_input": "2023-01-09T12:16:29.928196Z",
     "iopub.status.busy": "2023-01-09T12:16:29.927741Z",
     "iopub.status.idle": "2023-01-09T12:16:30.014649Z",
     "shell.execute_reply": "2023-01-09T12:16:30.013725Z",
     "shell.execute_reply.started": "2023-01-09T12:16:29.928156Z"
    }
   },
   "outputs": [],
   "source": [
    "data['decade'] = data['year'].apply(lambda year : f'{(year//10)*10}s' )"
   ]
  },
  {
   "cell_type": "markdown",
   "metadata": {},
   "source": [
    "***\n",
    "# EDA"
   ]
  },
  {
   "cell_type": "code",
   "execution_count": null,
   "metadata": {
    "_kg_hide-input": true,
    "execution": {
     "iopub.execute_input": "2023-01-09T12:16:32.33347Z",
     "iopub.status.busy": "2023-01-09T12:16:32.332288Z",
     "iopub.status.idle": "2023-01-09T12:16:32.75058Z",
     "shell.execute_reply": "2023-01-09T12:16:32.749153Z",
     "shell.execute_reply.started": "2023-01-09T12:16:32.333428Z"
    }
   },
   "outputs": [],
   "source": [
    "sns.countplot(data['decade'],)"
   ]
  },
  {
   "cell_type": "code",
   "execution_count": null,
   "metadata": {
    "_kg_hide-input": true,
    "execution": {
     "iopub.execute_input": "2023-01-09T12:16:33.27727Z",
     "iopub.status.busy": "2023-01-09T12:16:33.276843Z",
     "iopub.status.idle": "2023-01-09T12:16:34.539935Z",
     "shell.execute_reply": "2023-01-09T12:16:34.538697Z",
     "shell.execute_reply.started": "2023-01-09T12:16:33.277234Z"
    }
   },
   "outputs": [],
   "source": [
    "sound_features = ['acousticness', 'danceability', 'energy', 'instrumentalness', 'liveness', 'valence']\n",
    "fig = px.line(year_data, x='year', y=sound_features,title='Trend of various sound features over decades')\n",
    "fig.show()"
   ]
  },
  {
   "cell_type": "code",
   "execution_count": null,
   "metadata": {
    "_kg_hide-input": true,
    "execution": {
     "iopub.execute_input": "2023-01-09T12:16:34.542933Z",
     "iopub.status.busy": "2023-01-09T12:16:34.542235Z",
     "iopub.status.idle": "2023-01-09T12:16:34.605402Z",
     "shell.execute_reply": "2023-01-09T12:16:34.604197Z",
     "shell.execute_reply.started": "2023-01-09T12:16:34.542888Z"
    }
   },
   "outputs": [],
   "source": [
    "fig = px.line(year_data, x='year', y='loudness',title='Trend of loudness over decades')\n",
    "fig.show()"
   ]
  },
  {
   "cell_type": "code",
   "execution_count": null,
   "metadata": {
    "_kg_hide-input": true,
    "execution": {
     "iopub.execute_input": "2023-01-09T12:16:34.800888Z",
     "iopub.status.busy": "2023-01-09T12:16:34.800449Z",
     "iopub.status.idle": "2023-01-09T12:16:34.899406Z",
     "shell.execute_reply": "2023-01-09T12:16:34.898197Z",
     "shell.execute_reply.started": "2023-01-09T12:16:34.800849Z"
    }
   },
   "outputs": [],
   "source": [
    "top10_genres = genre_data.nlargest(10, 'popularity')\n",
    "\n",
    "fig = px.bar(top10_genres, x='genres', y=['valence', 'energy', 'danceability', 'acousticness'], barmode='group',\n",
    "            title='Trend of various sound features over top 10 genres')\n",
    "fig.show()"
   ]
  },
  {
   "cell_type": "code",
   "execution_count": null,
   "metadata": {
    "_kg_hide-input": true,
    "execution": {
     "iopub.execute_input": "2023-01-09T12:16:35.517266Z",
     "iopub.status.busy": "2023-01-09T12:16:35.516855Z",
     "iopub.status.idle": "2023-01-09T12:16:36.45972Z",
     "shell.execute_reply": "2023-01-09T12:16:36.458688Z",
     "shell.execute_reply.started": "2023-01-09T12:16:35.517233Z"
    }
   },
   "outputs": [],
   "source": [
    "from wordcloud import WordCloud,STOPWORDS\n",
    "\n",
    "stopwords = set(STOPWORDS)\n",
    "comment_words = \" \".join(genre_data['genres'])+\" \"\n",
    "wordcloud = WordCloud(width = 800, height = 800,\n",
    "                background_color ='white',\n",
    "                stopwords = stopwords,\n",
    "                max_words=40,\n",
    "                min_font_size = 10).generate(comment_words)\n",
    "                      \n",
    "plt.figure(figsize = (8, 8), facecolor = None)\n",
    "plt.imshow(wordcloud)\n",
    "plt.axis(\"off\")\n",
    "plt.tight_layout(pad = 0)\n",
    "plt.title(\"Genres Wordcloud\")\n",
    "plt.show()"
   ]
  },
  {
   "cell_type": "code",
   "execution_count": null,
   "metadata": {
    "_kg_hide-input": true,
    "execution": {
     "iopub.execute_input": "2023-01-09T12:16:36.462285Z",
     "iopub.status.busy": "2023-01-09T12:16:36.461179Z",
     "iopub.status.idle": "2023-01-09T12:16:37.899875Z",
     "shell.execute_reply": "2023-01-09T12:16:37.89898Z",
     "shell.execute_reply.started": "2023-01-09T12:16:36.462238Z"
    }
   },
   "outputs": [],
   "source": [
    "stopwords = set(STOPWORDS)\n",
    "comment_words = \" \".join(artist_data['artists'])+\" \"\n",
    "wordcloud = WordCloud(width = 800, height = 800,\n",
    "                background_color ='white',\n",
    "                stopwords = stopwords,\n",
    "                min_word_length=3,\n",
    "                max_words=40,\n",
    "                min_font_size = 10).generate(comment_words)\n",
    "                      \n",
    "plt.figure(figsize = (8, 8), facecolor = None)\n",
    "plt.imshow(wordcloud)\n",
    "plt.axis(\"off\")\n",
    "plt.title(\"Artists Wordcloud\")\n",
    "plt.tight_layout(pad = 0)\n",
    "plt.show()"
   ]
  },
  {
   "cell_type": "code",
   "execution_count": null,
   "metadata": {
    "execution": {
     "iopub.execute_input": "2023-01-09T12:16:37.901961Z",
     "iopub.status.busy": "2023-01-09T12:16:37.901436Z",
     "iopub.status.idle": "2023-01-09T12:16:37.912451Z",
     "shell.execute_reply": "2023-01-09T12:16:37.911425Z",
     "shell.execute_reply.started": "2023-01-09T12:16:37.901929Z"
    }
   },
   "outputs": [],
   "source": [
    "top10_popular_artists = artist_data.nlargest(10, 'popularity')\n",
    "top10_most_song_produced_artists = artist_data.nlargest(10, 'count')"
   ]
  },
  {
   "cell_type": "code",
   "execution_count": null,
   "metadata": {
    "_kg_hide-input": true,
    "execution": {
     "iopub.execute_input": "2023-01-09T12:16:38.16601Z",
     "iopub.status.busy": "2023-01-09T12:16:38.165593Z",
     "iopub.status.idle": "2023-01-09T12:16:38.179614Z",
     "shell.execute_reply": "2023-01-09T12:16:38.178162Z",
     "shell.execute_reply.started": "2023-01-09T12:16:38.165976Z"
    }
   },
   "outputs": [],
   "source": [
    "print('Top 10 Artists that produced most songs:')\n",
    "top10_most_song_produced_artists[['count','artists']].sort_values('count',ascending=False)"
   ]
  },
  {
   "cell_type": "code",
   "execution_count": null,
   "metadata": {
    "_kg_hide-input": true,
    "execution": {
     "iopub.execute_input": "2023-01-09T12:16:39.094816Z",
     "iopub.status.busy": "2023-01-09T12:16:39.093989Z",
     "iopub.status.idle": "2023-01-09T12:16:39.110694Z",
     "shell.execute_reply": "2023-01-09T12:16:39.109244Z",
     "shell.execute_reply.started": "2023-01-09T12:16:39.094762Z"
    }
   },
   "outputs": [],
   "source": [
    "print('Top 10 Artists that had most popularity score:')\n",
    "top10_popular_artists[['popularity','artists']].sort_values('popularity',ascending=False)"
   ]
  },
  {
   "cell_type": "markdown",
   "metadata": {},
   "source": [
    "***Conclusions from EDA***\n",
    "* *Most of the songs range between 1950s-2010s.*\n",
    "* *Energy in songs have increased over the time.*\n",
    "* *Acousticness in songs have reduced greately over the decades.*\n",
    "* *We can clearly see that loudness has dominantly increased over the decades and is at it's peak in 2020.*\n",
    "* *In top 10 genres we can see that energy and dancebility are most noticable features.*\n",
    "***"
   ]
  },
  {
   "cell_type": "markdown",
   "metadata": {},
   "source": [
    "# Clustering"
   ]
  },
  {
   "cell_type": "markdown",
   "metadata": {},
   "source": [
    "Here, the simple K-means clustering algorithm is used to divide the genres in this dataset into 12 clusters based on the numerical audio features of each genres."
   ]
  },
  {
   "cell_type": "code",
   "execution_count": null,
   "metadata": {
    "_kg_hide-input": true,
    "execution": {
     "iopub.execute_input": "2023-01-09T12:16:42.299135Z",
     "iopub.status.busy": "2023-01-09T12:16:42.298281Z",
     "iopub.status.idle": "2023-01-09T12:16:43.920619Z",
     "shell.execute_reply": "2023-01-09T12:16:43.918478Z",
     "shell.execute_reply.started": "2023-01-09T12:16:42.299081Z"
    }
   },
   "outputs": [],
   "source": [
    "from sklearn.cluster import KMeans\n",
    "from sklearn.preprocessing import StandardScaler\n",
    "from sklearn.pipeline import Pipeline\n",
    "\n",
    "cluster_pipeline = Pipeline([('scaler', StandardScaler()), ('kmeans', KMeans(n_clusters=12))])\n",
    "X = genre_data.select_dtypes(np.number)\n",
    "cluster_pipeline.fit(X)\n",
    "genre_data['cluster'] = cluster_pipeline.predict(X)"
   ]
  },
  {
   "cell_type": "code",
   "execution_count": null,
   "metadata": {
    "_kg_hide-input": true,
    "execution": {
     "iopub.execute_input": "2023-01-09T12:16:44.832044Z",
     "iopub.status.busy": "2023-01-09T12:16:44.831544Z",
     "iopub.status.idle": "2023-01-09T12:17:00.538226Z",
     "shell.execute_reply": "2023-01-09T12:17:00.5369Z",
     "shell.execute_reply.started": "2023-01-09T12:16:44.831997Z"
    }
   },
   "outputs": [],
   "source": [
    "''' Visualizing the Clusters with t-SNE\n",
    " is an unsupervised Machine Learning algorithm.\n",
    " It has become widely used in bioinformatics and more generally in data science to visualise the structure of \n",
    " high dimensional data in 2 or 3 dimensions.\n",
    " While t-SNE is a dimensionality reduction technique, it is mostly used for visualization and not data pre-processing \n",
    " (like you might with PCA). For this reason, you almost always reduce the dimensionality down to 2 with t-SNE, \n",
    " so that you can then plot the data in two dimensions.\n",
    "'''\n",
    "from sklearn.manifold import TSNE\n",
    "\n",
    "tsne_pipeline = Pipeline([('scaler', StandardScaler()), ('tsne', TSNE(n_components=2, verbose=1))])\n",
    "genre_embedding = tsne_pipeline.fit_transform(X) # returns np-array of coordinates(x,y) for each record after TSNE.\n",
    "projection = pd.DataFrame(columns=['x', 'y'], data=genre_embedding)\n",
    "projection['genres'] = genre_data['genres']\n",
    "projection['cluster'] = genre_data['cluster']\n",
    "\n",
    "fig = px.scatter(\n",
    "    projection, x='x', y='y', color='cluster', hover_data=['x', 'y', 'genres'],title='Clusters of genres')\n",
    "fig.show()"
   ]
  },
  {
   "cell_type": "code",
   "execution_count": null,
   "metadata": {
    "_kg_hide-input": true,
    "execution": {
     "iopub.execute_input": "2023-01-09T12:17:00.540858Z",
     "iopub.status.busy": "2023-01-09T12:17:00.540464Z",
     "iopub.status.idle": "2023-01-09T12:17:29.234119Z",
     "shell.execute_reply": "2023-01-09T12:17:29.232979Z",
     "shell.execute_reply.started": "2023-01-09T12:17:00.540823Z"
    }
   },
   "outputs": [],
   "source": [
    "song_cluster_pipeline = Pipeline([('scaler', StandardScaler()), \n",
    "                                  ('kmeans', KMeans(n_clusters=25, \n",
    "                                   verbose=False))\n",
    "                                 ], verbose=False)\n",
    "\n",
    "X = data.select_dtypes(np.number)\n",
    "song_cluster_pipeline.fit(X)\n",
    "song_cluster_labels = song_cluster_pipeline.predict(X)\n",
    "data['cluster_label'] = song_cluster_labels"
   ]
  },
  {
   "cell_type": "code",
   "execution_count": null,
   "metadata": {
    "_kg_hide-input": true,
    "execution": {
     "iopub.execute_input": "2023-01-09T12:17:29.236123Z",
     "iopub.status.busy": "2023-01-09T12:17:29.23572Z",
     "iopub.status.idle": "2023-01-09T12:17:32.063475Z",
     "shell.execute_reply": "2023-01-09T12:17:32.060904Z",
     "shell.execute_reply.started": "2023-01-09T12:17:29.23609Z"
    }
   },
   "outputs": [],
   "source": [
    "'''\n",
    "# Visualizing the Clusters with PCA\n",
    "Principal Component Analysis is an unsupervised learning algorithm that is used for the dimensionality reduction in machine learning.\n",
    "One of the most major differences between PCA and t-SNE is it preserves only local similarities whereas PA preserves\n",
    "large pairwise distance maximize variance. It takes a set of points in high dimensional data and converts it into low dimensional data.\n",
    "'''\n",
    "from sklearn.decomposition import PCA\n",
    "\n",
    "pca_pipeline = Pipeline([('scaler', StandardScaler()), ('PCA', PCA(n_components=2))])\n",
    "song_embedding = pca_pipeline.fit_transform(X)\n",
    "projection = pd.DataFrame(columns=['x', 'y'], data=song_embedding)\n",
    "projection['title'] = data['name']\n",
    "projection['cluster'] = data['cluster_label']\n",
    "\n",
    "fig = px.scatter(\n",
    "    projection, x='x', y='y', color='cluster', hover_data=['x', 'y', 'title'],title='Clusters of songs')\n",
    "fig.show()"
   ]
  },
  {
   "cell_type": "markdown",
   "metadata": {},
   "source": [
    "***\n",
    "# Model"
   ]
  },
  {
   "cell_type": "markdown",
   "metadata": {},
   "source": [
    "* Based on the analysis and visualizations, it’s clear that similar genres tend to have data points that are located close to each other while similar types of songs are also clustered together.\n",
    "* This observation makes perfect sense. Similar genres will sound similar and will come from similar time periods while the same can be said for songs within those genres. We can use this idea to build a recommendation system by taking the data points of the songs a user has listened to and recommending songs corresponding to nearby data points.\n",
    "* Spotipy is a Python client for the Spotify Web API that makes it easy for developers to fetch data and query Spotify’s catalog for songs. You have to install using pip install spotipy\n",
    "* After installing Spotipy, you will need to create an app on the Spotify Developer’s page and save your Client ID and secret key."
   ]
  },
  {
   "cell_type": "code",
   "execution_count": null,
   "metadata": {
    "_kg_hide-input": true,
    "_kg_hide-output": true,
    "execution": {
     "iopub.execute_input": "2023-01-09T12:17:32.066579Z",
     "iopub.status.busy": "2023-01-09T12:17:32.065986Z",
     "iopub.status.idle": "2023-01-09T12:17:46.128547Z",
     "shell.execute_reply": "2023-01-09T12:17:46.127103Z",
     "shell.execute_reply.started": "2023-01-09T12:17:32.066542Z"
    }
   },
   "outputs": [],
   "source": [
    "!pip install spotipy"
   ]
  },
  {
   "cell_type": "code",
   "execution_count": null,
   "metadata": {
    "execution": {
     "iopub.execute_input": "2023-01-09T12:17:46.130833Z",
     "iopub.status.busy": "2023-01-09T12:17:46.130447Z",
     "iopub.status.idle": "2023-01-09T12:17:46.688225Z",
     "shell.execute_reply": "2023-01-09T12:17:46.686971Z",
     "shell.execute_reply.started": "2023-01-09T12:17:46.130797Z"
    }
   },
   "outputs": [],
   "source": [
    "import spotipy\n",
    "from spotipy.oauth2 import SpotifyClientCredentials\n",
    "from collections import defaultdict\n",
    "from kaggle_secrets import UserSecretsClient\n",
    "user_secrets = UserSecretsClient()\n",
    "CLIENT_ID = user_secrets.get_secret(\"CLIENT_ID\")\n",
    "CLIENT_SECRET = user_secrets.get_secret(\"CLIENT_SECRET\")\n",
    "\n",
    "sp = spotipy.Spotify(auth_manager=SpotifyClientCredentials(client_id=CLIENT_ID, \n",
    "                                                           client_secret=CLIENT_SECRET))\n"
   ]
  },
  {
   "cell_type": "code",
   "execution_count": null,
   "metadata": {
    "execution": {
     "iopub.execute_input": "2023-01-09T12:17:46.691284Z",
     "iopub.status.busy": "2023-01-09T12:17:46.69009Z",
     "iopub.status.idle": "2023-01-09T12:17:46.700864Z",
     "shell.execute_reply": "2023-01-09T12:17:46.699362Z",
     "shell.execute_reply.started": "2023-01-09T12:17:46.691239Z"
    }
   },
   "outputs": [],
   "source": [
    "'''\n",
    "Finds song details from spotify dataset. If song is unavailable in dataset, it returns none.\n",
    "'''\n",
    "def find_song(name, year):\n",
    "    song_data = defaultdict()\n",
    "    results = sp.search(q= 'track: {} year: {}'.format(name,year), limit=1)\n",
    "    if results['tracks']['items'] == []:\n",
    "        return None\n",
    "\n",
    "    results = results['tracks']['items'][0]\n",
    "    track_id = results['id']\n",
    "    audio_features = sp.audio_features(track_id)[0]\n",
    "\n",
    "    song_data['name'] = [name]\n",
    "    song_data['year'] = [year]\n",
    "    song_data['explicit'] = [int(results['explicit'])]\n",
    "    song_data['duration_ms'] = [results['duration_ms']]\n",
    "    song_data['popularity'] = [results['popularity']]\n",
    "\n",
    "    for key, value in audio_features.items():\n",
    "        song_data[key] = value\n",
    "\n",
    "    return pd.DataFrame(song_data)"
   ]
  },
  {
   "cell_type": "code",
   "execution_count": null,
   "metadata": {
    "execution": {
     "iopub.execute_input": "2023-01-09T12:17:46.702704Z",
     "iopub.status.busy": "2023-01-09T12:17:46.702295Z",
     "iopub.status.idle": "2023-01-09T12:17:46.717571Z",
     "shell.execute_reply": "2023-01-09T12:17:46.716213Z",
     "shell.execute_reply.started": "2023-01-09T12:17:46.702669Z"
    }
   },
   "outputs": [],
   "source": [
    "number_cols = ['valence', 'year', 'acousticness', 'danceability', 'duration_ms', 'energy', 'explicit',\n",
    " 'instrumentalness', 'key', 'liveness', 'loudness', 'mode', 'popularity', 'speechiness', 'tempo']"
   ]
  },
  {
   "cell_type": "code",
   "execution_count": null,
   "metadata": {
    "execution": {
     "iopub.execute_input": "2023-01-09T12:17:46.719785Z",
     "iopub.status.busy": "2023-01-09T12:17:46.719378Z",
     "iopub.status.idle": "2023-01-09T12:17:46.728915Z",
     "shell.execute_reply": "2023-01-09T12:17:46.728033Z",
     "shell.execute_reply.started": "2023-01-09T12:17:46.71975Z"
    }
   },
   "outputs": [],
   "source": [
    "'''\n",
    "Fetches song details from dataset. If info is unavailable in dataset, it will search details from the spotify dataset.\n",
    "'''\n",
    "def get_song_data(song, spotify_data):\n",
    "    try:\n",
    "        song_data = spotify_data[(spotify_data['name'] == song['name']) \n",
    "                                & (spotify_data['year'] == song['year'])].iloc[0]\n",
    "        print('Fetching song information from local dataset')\n",
    "        return song_data\n",
    "    \n",
    "    except IndexError:\n",
    "        print('Fetching song information from spotify dataset')\n",
    "        return find_song(song['name'], song['year'])"
   ]
  },
  {
   "cell_type": "code",
   "execution_count": null,
   "metadata": {
    "execution": {
     "iopub.execute_input": "2023-01-09T12:18:15.934789Z",
     "iopub.status.busy": "2023-01-09T12:18:15.934287Z",
     "iopub.status.idle": "2023-01-09T12:18:15.943316Z",
     "shell.execute_reply": "2023-01-09T12:18:15.941746Z",
     "shell.execute_reply.started": "2023-01-09T12:18:15.93475Z"
    }
   },
   "outputs": [],
   "source": [
    "'''\n",
    "Fetches song info from dataset and does the mean of all numerical features of the song-data.\n",
    "'''\n",
    "def get_mean_vector(song_list, spotify_data):\n",
    "    song_vectors = []\n",
    "    for song in song_list:\n",
    "        song_data = get_song_data(song, spotify_data)\n",
    "        if song_data is None:\n",
    "            print('Warning: {} does not exist in Spotify or in database'.format(song['name']))\n",
    "            continue\n",
    "        song_vector = song_data[number_cols].values\n",
    "        song_vectors.append(song_vector)  \n",
    "    \n",
    "    song_matrix = np.array(list(song_vectors))#nd-array where n is number of songs in list. It contains all numerical vals of songs in sep list.\n",
    "    #print(f'song_matrix {song_matrix}')\n",
    "    return np.mean(song_matrix, axis=0) # mean of each ele in list, returns 1-d array\n"
   ]
  },
  {
   "cell_type": "code",
   "execution_count": null,
   "metadata": {
    "execution": {
     "iopub.execute_input": "2023-01-09T12:18:16.375244Z",
     "iopub.status.busy": "2023-01-09T12:18:16.374796Z",
     "iopub.status.idle": "2023-01-09T12:18:16.381598Z",
     "shell.execute_reply": "2023-01-09T12:18:16.380212Z",
     "shell.execute_reply.started": "2023-01-09T12:18:16.375208Z"
    }
   },
   "outputs": [],
   "source": [
    "'''\n",
    "Flattenning the dictionary by grouping the key and forming a list of values for respective key.\n",
    "'''\n",
    "def flatten_dict_list(dict_list):\n",
    "    flattened_dict = defaultdict()\n",
    "    for key in dict_list[0].keys(): \n",
    "        flattened_dict[key] = [] # 'name', 'year'\n",
    "    for dic in dict_list:\n",
    "        for key,value in dic.items():\n",
    "            flattened_dict[key].append(value) # creating list of values\n",
    "    return flattened_dict\n"
   ]
  },
  {
   "cell_type": "code",
   "execution_count": null,
   "metadata": {
    "execution": {
     "iopub.execute_input": "2023-01-09T12:18:17.076382Z",
     "iopub.status.busy": "2023-01-09T12:18:17.07551Z",
     "iopub.status.idle": "2023-01-09T12:18:17.084312Z",
     "shell.execute_reply": "2023-01-09T12:18:17.083391Z",
     "shell.execute_reply.started": "2023-01-09T12:18:17.076327Z"
    }
   },
   "outputs": [],
   "source": [
    "'''\n",
    "Gets song list as input. \n",
    "Get mean vectors of numerical features of the input. \n",
    "Scale the mean-input as well as dataset numerical features.\n",
    "calculate eculidean distance b/w mean-input and dataset.\n",
    "Fetch the top 10 songs with maximum similarity.\n",
    "'''\n",
    "def recommend_songs( song_list, spotify_data, n_songs=10):\n",
    "    \n",
    "    metadata_cols = ['name', 'year', 'artists']\n",
    "    song_dict = flatten_dict_list(song_list)\n",
    "    \n",
    "    song_center = get_mean_vector(song_list, spotify_data)\n",
    "    #print(f'song_center {song_center}')\n",
    "    scaler = song_cluster_pipeline.steps[0][1] # StandardScalar()\n",
    "    scaled_data = scaler.transform(spotify_data[number_cols])\n",
    "    scaled_song_center = scaler.transform(song_center.reshape(1, -1))\n",
    "    distances = cdist(scaled_song_center, scaled_data, 'cosine')\n",
    "    #print(f'distances {distances}')\n",
    "    index = list(np.argsort(distances)[:, :n_songs][0])\n",
    "    \n",
    "    rec_songs = spotify_data.iloc[index]\n",
    "    rec_songs = rec_songs[~rec_songs['name'].isin(song_dict['name'])]\n",
    "    return rec_songs[metadata_cols].to_dict(orient='records')"
   ]
  },
  {
   "cell_type": "code",
   "execution_count": null,
   "metadata": {
    "execution": {
     "iopub.execute_input": "2023-01-09T12:18:23.098652Z",
     "iopub.status.busy": "2023-01-09T12:18:23.098208Z",
     "iopub.status.idle": "2023-01-09T12:18:23.833608Z",
     "shell.execute_reply": "2023-01-09T12:18:23.832439Z",
     "shell.execute_reply.started": "2023-01-09T12:18:23.098619Z"
    }
   },
   "outputs": [],
   "source": [
    "recommend_songs([{'name': 'Blinding Lights', 'year': 2019}],  data)"
   ]
  },
  {
   "cell_type": "code",
   "execution_count": null,
   "metadata": {
    "execution": {
     "iopub.execute_input": "2023-01-09T12:18:24.710788Z",
     "iopub.status.busy": "2023-01-09T12:18:24.710023Z",
     "iopub.status.idle": "2023-01-09T12:18:24.791091Z",
     "shell.execute_reply": "2023-01-09T12:18:24.789946Z",
     "shell.execute_reply.started": "2023-01-09T12:18:24.710748Z"
    }
   },
   "outputs": [],
   "source": [
    "recommend_songs([{'name': 'Fix You', 'year':2005}],  data)"
   ]
  },
  {
   "cell_type": "code",
   "execution_count": null,
   "metadata": {
    "execution": {
     "iopub.execute_input": "2023-01-09T12:18:25.878079Z",
     "iopub.status.busy": "2023-01-09T12:18:25.876459Z",
     "iopub.status.idle": "2023-01-09T12:18:25.979433Z",
     "shell.execute_reply": "2023-01-09T12:18:25.978431Z",
     "shell.execute_reply.started": "2023-01-09T12:18:25.87802Z"
    }
   },
   "outputs": [],
   "source": [
    "recommend_songs([{'name': 'I Will Follow', 'year':2010},{'name': 'Come As You Are', 'year':1991}],  data)"
   ]
  },
  {
   "cell_type": "markdown",
   "metadata": {},
   "source": [
    "***\n",
    "# Conclusion\n",
    "*We are able to recommend top 10 similar songs to user based on the input. The recommendation is based on similarity of numerical features of the songs. We have calculated the cosine distance and identified the songs with highest similarity.*"
   ]
  },
  {
   "cell_type": "markdown",
   "metadata": {},
   "source": [
    "*I have taken reference of the code from: vatsalmavani*"
   ]
  },
  {
   "cell_type": "markdown",
   "metadata": {},
   "source": [
    "**Thank You!**\n",
    "***"
   ]
  }
 ],
 "metadata": {
  "kaggle": {
   "accelerator": "none",
   "dataSources": [
    {
     "datasetId": 1800580,
     "sourceId": 2936818,
     "sourceType": "datasetVersion"
    }
   ],
   "dockerImageVersionId": 30301,
   "isGpuEnabled": false,
   "isInternetEnabled": false,
   "language": "python",
   "sourceType": "notebook"
  },
  "kernelspec": {
   "display_name": "Python 3 (ipykernel)",
   "language": "python",
   "name": "python3"
  },
  "language_info": {
   "codemirror_mode": {
    "name": "ipython",
    "version": 3
   },
   "file_extension": ".py",
   "mimetype": "text/x-python",
   "name": "python",
   "nbconvert_exporter": "python",
   "pygments_lexer": "ipython3",
   "version": "3.9.18"
  }
 },
 "nbformat": 4,
 "nbformat_minor": 4
}
